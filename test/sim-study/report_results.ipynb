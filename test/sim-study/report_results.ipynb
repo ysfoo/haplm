{
 "cells": [
  {
   "cell_type": "code",
   "execution_count": 102,
   "id": "5227a90d-bd20-4743-96b1-78006e65f2b5",
   "metadata": {},
   "outputs": [],
   "source": [
    "import numpy as np\n",
    "import matplotlib.pyplot as plt\n",
    "import arviz as az\n",
    "import scipy.stats\n",
    "import scipy.special\n",
    "\n",
    "import pickle as pkl\n",
    "\n",
    "from sim_data import parse_sim_data"
   ]
  },
  {
   "cell_type": "code",
   "execution_count": 232,
   "id": "4f513ea5-f0eb-42e8-99bb-d4aa2dacff9a",
   "metadata": {},
   "outputs": [],
   "source": [
    "n_datasets = 5\n",
    "n_pools = 20\n",
    "n_markers = 3\n",
    "H = 2**n_markers # number of haplotypes\n",
    "pool_sizes = np.arange(10, 31, 5)"
   ]
  },
  {
   "cell_type": "code",
   "execution_count": 290,
   "id": "03279780-cecf-4218-a8d8-451b2d016048",
   "metadata": {},
   "outputs": [],
   "source": [
    "from matplotlib import rc, rcParams\n",
    "rc('font', **{'family': 'serif', 'serif': ['Palatino']})\n",
    "rc('text', usetex = True)\n",
    "rc('font', size=16)\n",
    "\n",
    "# colors for plotting\n",
    "colors = ['#66c2a5', '#fc8d62', '#8da0cb', '#e78ac3', '#a6d854']"
   ]
  },
  {
   "cell_type": "code",
   "execution_count": 233,
   "id": "0504aa26-9bb7-4652-b16f-67ca61f461fb",
   "metadata": {},
   "outputs": [],
   "source": [
    "def get_pmean(idata):\n",
    "    return idata.posterior.p.values.mean(axis=(0,1))\n",
    "\n",
    "def get_pess(idata):\n",
    "    return az.ess(idata, var_names=['p'])['p'].values\n",
    "\n",
    "def get_pmode(idata):\n",
    "    lp = idata.sample_stats.lp\n",
    "    mode_idx = np.unravel_index(lp.argmax(), lp.shape)\n",
    "    return idata.posterior.p.values[mode_idx]\n",
    "    \n",
    "def get_pmode_cgibbs(idata, lm_list, max_psize, alphas):\n",
    "    logfacts = scipy.special.loggamma(np.arange(1, max_psize+2))\n",
    "    if alphas.min() < 1:\n",
    "        raise RuntimeError(\"Posterior mode may not exist for alpha < 1\")\n",
    "    \n",
    "    basis_is = [i for i, lm in enumerate(lm_list) if lm.idx_var]    \n",
    "    post_alp = alphas.copy()\n",
    "    for lm in lm_list:\n",
    "        post_alp[lm.idx_fix] += lm.z_fix\n",
    "        \n",
    "    chains, draws, H = idata.posterior.p.shape\n",
    "    alp_mat = np.tile(post_alp, (chains, draws, 1))\n",
    "    lp = np.zeros((chains, draws))\n",
    "    for i in basis_is:\n",
    "        alp_mat[:,:,lm_list[i].idx_var] += idata.posterior[f'z{i}'].values\n",
    "        lp -= logfacts[idata.posterior[f'z{i}'].values].sum(axis=-1)\n",
    "    pmodes = (alp_mat-1)/(alp_mat.sum(axis=-1)-H)[:,:,None]\n",
    "    lp += np.sum((alp_mat-1) * np.log(pmodes, out=np.zeros(pmodes.shape), where=pmodes>0), axis=-1)\n",
    "    return pmodes[np.unravel_index(lp.argmax(), lp.shape)]\n",
    "\n",
    "def get_tot_time(sample_stats):\n",
    "    longest = sample_stats.time_incl_tune.values.max()\n",
    "    return (sample_stats.attrs['preprocess_time']\n",
    "            + sample_stats.attrs['mcmc_walltime'] - longest\n",
    "            + sample_stats.time_incl_tune.values.sum()) \n",
    "\n",
    "def est_time(sample_stats, ess, trg_ess):\n",
    "    longest = sample_stats.time_incl_tune.values.max()\n",
    "    return (sample_stats.attrs['preprocess_time']\n",
    "            + sample_stats.attrs['mcmc_walltime'] - longest\n",
    "            + sample_stats.time_incl_tune.values.sum()*trg_ess/ess) \n",
    "\n",
    "def tvd(p1, p2):\n",
    "    return 0.5 * np.abs(p1-p2).sum()"
   ]
  },
  {
   "cell_type": "code",
   "execution_count": 236,
   "id": "ee11a24d-34cd-4f05-9929-6ae26f0864de",
   "metadata": {},
   "outputs": [],
   "source": [
    "# read in multinomial probabilities used for simulation\n",
    "ptrue_by_psize = {}\n",
    "for pool_size in pool_sizes:\n",
    "    ptrue_arr = []\n",
    "    for ds_idx in range(1, n_datasets+1):\n",
    "        fn_prefix = f'../../data/sim-study/psize{pool_size}_m{n_markers}_id{ds_idx}'\n",
    "        with open(fn_prefix+'.prob') as fp:\n",
    "            ptrue_arr.append([float(x) for x in fp.readline().split()])\n",
    "    ptrue_by_psize[pool_size] = np.array(ptrue_arr)"
   ]
  },
  {
   "cell_type": "code",
   "execution_count": 267,
   "id": "d3b4ce70-2a37-4b43-b754-cb2d92aa7be1",
   "metadata": {},
   "outputs": [],
   "source": [
    "methods = ['exact', 'mn_approx', 'cgibbs_adapt']"
   ]
  },
  {
   "cell_type": "code",
   "execution_count": 268,
   "id": "ddfbc601-811f-454e-8f44-04e09e8d2ea0",
   "metadata": {
    "tags": []
   },
   "outputs": [],
   "source": [
    "# get stats from MCMC results\n",
    "\n",
    "stats_by_psize = {}\n",
    "\n",
    "for pool_size in pool_sizes:\n",
    "    stats_dicts = []\n",
    "    for ds_idx in range(1, n_datasets+1):\n",
    "        stats_dict = {}\n",
    "        fn_prefix = f'../../data/sim-study/psize{pool_size}_m{n_markers}_id{ds_idx}'\n",
    "        for method in methods:\n",
    "            #print(pool_size, ds_idx, method)\n",
    "            idata = az.from_netcdf(f'{fn_prefix}_{method}.netcdf')\n",
    "            if 'cgibbs' in method:\n",
    "                with open(fn_prefix+'.pkl', 'rb') as fp:\n",
    "                    lm_list = pkl.load(fp)\n",
    "                pmode = get_pmode_cgibbs(idata, lm_list, pool_size, np.ones(H))\n",
    "            else:\n",
    "                pmode = get_pmode(idata)\n",
    "            stats_dict[method] = {'pmean': get_pmean(idata), # posterior mean\n",
    "                                  'pmode': pmode, # posterior mode\n",
    "                                  'pess': get_pess(idata), # ESS of p\n",
    "                                  'sample_stats': idata.sample_stats # timings\n",
    "                                 }\n",
    "        stats_dicts.append(stats_dict)\n",
    "    stats_by_psize[pool_size] = stats_dicts"
   ]
  },
  {
   "cell_type": "code",
   "execution_count": 269,
   "id": "0f4ea17c-2fe2-43e2-b470-62b80a6c5b08",
   "metadata": {},
   "outputs": [
    {
     "name": "stdout",
     "output_type": "stream",
     "text": [
      "Total variation distance of posterior means to true value\n",
      "\n",
      "Pool size       |   10   |   15   |   20   |   25   |   30   \n",
      "----------------|--------|--------|--------|--------|--------\n",
      "Set 1           |        |        |        |        |        \n",
      "          exact | 0.0337 | 0.0545 | 0.0390 | 0.0370 | 0.0619 \n",
      "      mn_approx | 0.1067 | 0.1479 | 0.1473 | 0.1474 | 0.1814 \n",
      "   cgibbs_adapt | 0.0344 | 0.0535 | 0.0380 | 0.0330 | 0.0601 \n",
      "Set 2           |        |        |        |        |        \n",
      "          exact | 0.1881 | 0.1637 | 0.1584 | 0.1465 | 0.1566 \n",
      "      mn_approx | 0.1898 | 0.1666 | 0.1795 | 0.1544 | 0.1675 \n",
      "   cgibbs_adapt | 0.1900 | 0.1623 | 0.1654 | 0.1484 | 0.1568 \n",
      "Set 3           |        |        |        |        |        \n",
      "          exact | 0.0849 | 0.1153 | 0.1094 | 0.0689 | 0.1008 \n",
      "      mn_approx | 0.1041 | 0.0932 | 0.0960 | 0.0822 | 0.1150 \n",
      "   cgibbs_adapt | 0.0862 | 0.1209 | 0.1096 | 0.0689 | 0.1018 \n",
      "Set 4           |        |        |        |        |        \n",
      "          exact | 0.1426 | 0.0728 | 0.0725 | 0.0611 | 0.0585 \n",
      "      mn_approx | 0.1352 | 0.0597 | 0.0500 | 0.0437 | 0.0428 \n",
      "   cgibbs_adapt | 0.1440 | 0.0727 | 0.0723 | 0.0609 | 0.0593 \n",
      "Set 5           |        |        |        |        |        \n",
      "          exact | 0.0817 | 0.0615 | 0.0655 | 0.0573 | 0.0707 \n",
      "      mn_approx | 0.0918 | 0.0858 | 0.0802 | 0.0606 | 0.0823 \n",
      "   cgibbs_adapt | 0.0830 | 0.0618 | 0.0667 | 0.0556 | 0.0728 \n"
     ]
    }
   ],
   "source": [
    "print('Total variation distance of posterior means to true value\\n')\n",
    "print(f'Pool size{\" \"*7}', end='')\n",
    "for psize in pool_sizes:\n",
    "    print(f'|{psize:^8}', end='')\n",
    "print()\n",
    "\n",
    "print('|'.join(['-'*rep for rep in [16]+[8]*len(pool_sizes)]))\n",
    "for ds_idx in range(5):\n",
    "    print(f'Set {ds_idx+1:<12}|', end='')\n",
    "    print('|'.join([' '*8]*len(pool_sizes)))\n",
    "    for method in methods:\n",
    "        print(f'{method:>15} ', end='')\n",
    "        for psize in pool_sizes:\n",
    "            ptrue = ptrue_by_psize[psize][ds_idx]\n",
    "            pmean = stats_by_psize[psize][ds_idx][method]['pmean']\n",
    "            print(f'| {tvd(pmean, ptrue):.4f} ', end='')\n",
    "        print()"
   ]
  },
  {
   "cell_type": "code",
   "execution_count": 270,
   "id": "8c2701bf-89fb-44ab-972c-4bb23ab7cb4c",
   "metadata": {},
   "outputs": [
    {
     "name": "stdout",
     "output_type": "stream",
     "text": [
      "Total variation distance of posterior modes to true value\n",
      "\n",
      "Pool size       |   10   |   15   |   20   |   25   |   30   \n",
      "----------------|--------|--------|--------|--------|--------\n",
      "Set 1           |        |        |        |        |        \n",
      "          exact | 0.0632 | 0.0598 | 0.0811 | 0.0659 | 0.0524 \n",
      "      mn_approx | 0.1173 | 0.0482 | 0.0291 | 0.0534 | 0.0924 \n",
      "   cgibbs_adapt | 0.0823 | 0.0790 | 0.0773 | 0.0903 | 0.0923 \n",
      "Set 2           |        |        |        |        |        \n",
      "          exact | 0.2378 | 0.1826 | 0.1052 | 0.1864 | 0.1984 \n",
      "      mn_approx | 0.1375 | 0.1732 | 0.1598 | 0.1290 | 0.1924 \n",
      "   cgibbs_adapt | 0.0830 | 0.1146 | 0.0819 | 0.1321 | 0.1396 \n",
      "Set 3           |        |        |        |        |        \n",
      "          exact | 0.2162 | 0.1270 | 0.0728 | 0.0636 | 0.0629 \n",
      "      mn_approx | 0.0717 | 0.0897 | 0.0610 | 0.0283 | 0.0972 \n",
      "   cgibbs_adapt | 0.3223 | 0.2168 | 0.3035 | 0.2815 | 0.1861 \n",
      "Set 4           |        |        |        |        |        \n",
      "          exact | 0.1548 | 0.0739 | 0.0886 | 0.0946 | 0.0935 \n",
      "      mn_approx | 0.1333 | 0.0613 | 0.0560 | 0.0451 | 0.0429 \n",
      "   cgibbs_adapt | 0.0822 | 0.0965 | 0.1023 | 0.1241 | 0.1015 \n",
      "Set 5           |        |        |        |        |        \n",
      "          exact | 0.1543 | 0.1118 | 0.0617 | 0.1507 | 0.1333 \n",
      "      mn_approx | 0.1512 | 0.1892 | 0.0661 | 0.0705 | 0.2126 \n",
      "   cgibbs_adapt | 0.1604 | 0.1561 | 0.1792 | 0.1674 | 0.1764 \n"
     ]
    }
   ],
   "source": [
    "print('Total variation distance of posterior modes to true value\\n')\n",
    "print(f'Pool size{\" \"*7}', end='')\n",
    "for psize in pool_sizes:\n",
    "    print(f'|{psize:^8}', end='')\n",
    "print()\n",
    "\n",
    "print('|'.join(['-'*rep for rep in [16]+[8]*len(pool_sizes)]))\n",
    "for ds_idx in range(5):\n",
    "    print(f'Set {ds_idx+1:<12}|', end='')\n",
    "    print('|'.join([' '*8]*len(pool_sizes)))\n",
    "    for method in methods:\n",
    "        print(f'{method:>15} ', end='')\n",
    "        for psize in pool_sizes:\n",
    "            ptrue = ptrue_by_psize[psize][ds_idx]\n",
    "            pmode = stats_by_psize[psize][ds_idx][method]['pmode']\n",
    "            print(f'| {tvd(pmode, ptrue):.4f} ', end='')\n",
    "        print()"
   ]
  },
  {
   "cell_type": "code",
   "execution_count": 271,
   "id": "83d1fc82-d781-4cd4-a046-dc1e618511bd",
   "metadata": {},
   "outputs": [
    {
     "name": "stdout",
     "output_type": "stream",
     "text": [
      "Entropy\n",
      "\n",
      "Set 1: 1.2758\n",
      "Set 2: 1.4497\n",
      "Set 3: 1.5990\n",
      "Set 4: 1.4674\n",
      "Set 5: 1.5284\n"
     ]
    }
   ],
   "source": [
    "print('Entropy\\n')\n",
    "for idx in range(n_datasets):\n",
    "    ptrue = ptrue_by_psize[pool_sizes[0]][idx]\n",
    "    print(f'Set {idx+1}: {scipy.stats.entropy(ptrue):6.4f}')"
   ]
  },
  {
   "cell_type": "code",
   "execution_count": 272,
   "id": "36b72500-a8fd-4c12-a862-531091b5b296",
   "metadata": {},
   "outputs": [
    {
     "data": {
      "image/png": "[encoded data removed]",
      "text/plain": [
       "<Figure size 864x864 with 5 Axes>"
      ]
     },
     "metadata": {
      "needs_background": "light"
     },
     "output_type": "display_data"
    }
   ],
   "source": [
    "psize = 10\n",
    "fig, axes = plt.subplots(nrows=n_datasets, figsize=(12, 12))\n",
    "for idx in range(n_datasets):\n",
    "    ax = axes[idx]\n",
    "    for h in range(H):\n",
    "        ax.plot([h+0.6, h+1.4], [ptrue_by_psize[psize][idx][h]]*2, '--', color='k', alpha=0.8);\n",
    "        \n",
    "    for i, method in enumerate(methods):\n",
    "        ax.scatter(np.arange(1,1+H)-0.2+0.2*i, stats_by_psize[psize][idx][method]['pmean'], alpha=0.8);"
   ]
  },
  {
   "cell_type": "code",
   "execution_count": 273,
   "id": "7bd530c8-f736-47bd-90c7-f3c90e15fdf1",
   "metadata": {},
   "outputs": [
    {
     "name": "stdout",
     "output_type": "stream",
     "text": [
      "Minimum effective sample size\n",
      "\n",
      "Pool size       |   10   |   15   |   20   |   25   |   30   \n",
      "----------------|--------|--------|--------|--------|--------\n",
      "Set 1           |        |        |        |        |        \n",
      "          exact |   2541 |   1604 |   1278 |   1128 |    696 \n",
      "      mn_approx |   1481 |   1134 |    827 |    745 |    538 \n",
      "   cgibbs_adapt |   2864 |   1560 |    662 |    566 |    399 \n",
      "Set 2           |        |        |        |        |        \n",
      "          exact |   2022 |   1386 |   1169 |    908 |    762 \n",
      "      mn_approx |   1949 |   1527 |   1219 |    948 |    873 \n",
      "   cgibbs_adapt |   2820 |   1721 |    859 |    792 |    551 \n",
      "Set 3           |        |        |        |        |        \n",
      "          exact |    948 |    877 |   1032 |    653 |    638 \n",
      "      mn_approx |   1135 |    671 |   1188 |    822 |    899 \n",
      "   cgibbs_adapt |   1078 |   1129 |    910 |    453 |    364 \n",
      "Set 4           |        |        |        |        |        \n",
      "          exact |   2556 |   1814 |   1913 |   1432 |   1306 \n",
      "      mn_approx |   1913 |   1629 |   1618 |   1344 |   1199 \n",
      "   cgibbs_adapt |   4466 |   3344 |   2736 |   1743 |   1212 \n",
      "Set 5           |        |        |        |        |        \n",
      "          exact |   2199 |   1113 |   1066 |    968 |    690 \n",
      "      mn_approx |   1768 |   1031 |   1080 |    713 |    639 \n",
      "   cgibbs_adapt |   3801 |   1506 |   1371 |    865 |    623 \n"
     ]
    }
   ],
   "source": [
    "print('Minimum effective sample size\\n')\n",
    "print(f'Pool size{\" \"*7}', end='')\n",
    "for psize in pool_sizes:\n",
    "    print(f'|{psize:^8}', end='')\n",
    "print()\n",
    "\n",
    "print('|'.join(['-'*rep for rep in [16]+[8]*len(pool_sizes)]))\n",
    "for ds_idx in range(5):\n",
    "    print(f'Set {ds_idx+1:<12}|', end='')\n",
    "    print('|'.join([' '*8]*len(pool_sizes)))\n",
    "    for method in methods:\n",
    "        print(f'{method:>15} ', end='')\n",
    "        for psize in pool_sizes:\n",
    "            pess = stats_by_psize[psize][ds_idx][method]['pess']\n",
    "            print(f'| {pess.min():6.0f} ', end='')\n",
    "        print()"
   ]
  },
  {
   "cell_type": "code",
   "execution_count": 305,
   "id": "2b1bddee-6b62-4b58-86a2-30f16f5e86df",
   "metadata": {},
   "outputs": [
    {
     "data": {
      "image/png": "[encoded data removed]",
      "text/plain": [
       "<Figure size 720x432 with 1 Axes>"
      ]
     },
     "metadata": {
      "needs_background": "light"
     },
     "output_type": "display_data"
    }
   ],
   "source": [
    "labels = ['Exact marginalisation',\n",
    "          'Multinormal approximation',\n",
    "          'Markov basis sampling']\n",
    "\n",
    "plt.figure(figsize=(10,6))\n",
    "for i, method in enumerate(methods):\n",
    "    plt.scatter(np.repeat(pool_sizes+0.8*(i-1), n_datasets),\n",
    "                [stat_dict[method]['pess'].min() for psize in pool_sizes for stat_dict in stats_by_psize[psize]],\n",
    "                color=colors[i], alpha=0.8, s=60, marker='o^D'[i], label=labels[i]);\n",
    "plt.ylim((0, plt.ylim()[1]))\n",
    "plt.xlabel('Number of haplotypes per pool', fontsize=18);\n",
    "plt.ylabel('Minimum effective sample size', fontsize=18);\n",
    "plt.legend();"
   ]
  },
  {
   "cell_type": "code",
   "execution_count": 286,
   "id": "665f8964-1a33-4788-a870-48c15d7d6892",
   "metadata": {},
   "outputs": [
    {
     "data": {
      "text/plain": [
       "array([10.8, 10.8, 15.8, 15.8, 20.8, 20.8, 25.8, 25.8, 30.8, 30.8])"
      ]
     },
     "execution_count": 286,
     "metadata": {},
     "output_type": "execute_result"
    }
   ],
   "source": [
    "np.repeat(pool_sizes+0.8*(i-1), 2)"
   ]
  },
  {
   "cell_type": "code",
   "execution_count": 274,
   "id": "9692a8cb-26eb-4143-a86f-5d1710f00489",
   "metadata": {},
   "outputs": [
    {
     "name": "stdout",
     "output_type": "stream",
     "text": [
      "Total runtime\n",
      "\n",
      "Pool size       |   10   |   15   |   20   |   25   |   30   \n",
      "----------------|--------|--------|--------|--------|--------\n",
      "Set 1           |        |        |        |        |        \n",
      "          exact |   25.1 |   32.0 |   89.7 |  367.6 | 1989.4 \n",
      "      mn_approx |   70.1 |   71.2 |   68.6 |   70.6 |   71.7 \n",
      "   cgibbs_adapt |  120.4 |  106.5 |  110.7 |  100.2 |   97.9 \n",
      "Set 2           |        |        |        |        |        \n",
      "          exact |   22.7 |   24.8 |   31.7 |   33.9 |   60.6 \n",
      "      mn_approx |   80.1 |   76.5 |   80.3 |   77.2 |   81.4 \n",
      "   cgibbs_adapt |  109.3 |  105.7 |  101.1 |  105.1 |   99.8 \n",
      "Set 3           |        |        |        |        |        \n",
      "          exact |   21.0 |   26.6 |   36.6 |   51.5 |   89.3 \n",
      "      mn_approx |   71.4 |   73.5 |   75.0 |   74.0 |   77.2 \n",
      "   cgibbs_adapt |  116.5 |  103.2 |   97.7 |   97.6 |   99.5 \n",
      "Set 4           |        |        |        |        |        \n",
      "          exact |   26.1 |   28.2 |   57.8 |  249.1 | 1152.6 \n",
      "      mn_approx |   78.1 |   65.8 |   74.6 |   73.0 |   76.8 \n",
      "   cgibbs_adapt |  101.4 |   98.3 |   99.1 |   95.0 |   95.4 \n",
      "Set 5           |        |        |        |        |        \n",
      "          exact |   24.0 |   29.8 |   48.8 |   83.7 |  233.9 \n",
      "      mn_approx |   67.3 |   69.9 |   76.2 |   68.8 |   75.3 \n",
      "   cgibbs_adapt |  101.9 |  103.7 |  101.4 |   99.6 |  101.6 \n"
     ]
    }
   ],
   "source": [
    "print('Total runtime\\n')\n",
    "print(f'Pool size{\" \"*7}', end='')\n",
    "for psize in pool_sizes:\n",
    "    print(f'|{psize:^8}', end='')\n",
    "print()\n",
    "\n",
    "print('|'.join(['-'*rep for rep in [16]+[8]*len(pool_sizes)]))\n",
    "for ds_idx in range(5):\n",
    "    print(f'Set {ds_idx+1:<12}|', end='')\n",
    "    print('|'.join([' '*8]*len(pool_sizes)))\n",
    "    for method in methods:\n",
    "        print(f'{method:>15} ', end='')\n",
    "        for psize in pool_sizes:\n",
    "            tot_time = get_tot_time(stats_by_psize[psize][ds_idx][method]['sample_stats'])\n",
    "            print(f'| {tot_time:6.1f} ', end='')\n",
    "        print()"
   ]
  },
  {
   "cell_type": "code",
   "execution_count": 275,
   "id": "ca555eaf-95d0-49d4-937a-5b52acf0024b",
   "metadata": {},
   "outputs": [
    {
     "name": "stdout",
     "output_type": "stream",
     "text": [
      "Estimated total runtime for ESS of 1000\n",
      "\n",
      "Pool size       |   10   |   15   |   20   |   25   |   30   \n",
      "----------------|--------|--------|--------|--------|--------\n",
      "Set 1           |        |        |        |        |        \n",
      "          exact |   12.3 |   22.5 |   81.1 |  360.5 | 2030.0 \n",
      "      mn_approx |   49.2 |   63.6 |   82.4 |   93.4 |  130.0 \n",
      "   cgibbs_adapt |   43.3 |   68.7 |  166.8 |  176.4 |  244.1 \n",
      "Set 2           |        |        |        |        |        \n",
      "          exact |   12.4 |   18.4 |   27.4 |   37.2 |   75.2 \n",
      "      mn_approx |   43.2 |   51.7 |   66.7 |   81.2 |   92.5 \n",
      "   cgibbs_adapt |   39.9 |   62.0 |  117.5 |  132.5 |  180.3 \n",
      "Set 3           |        |        |        |        |        \n",
      "          exact |   22.1 |   30.1 |   35.5 |   77.1 |  128.3 \n",
      "      mn_approx |   63.3 |  107.4 |   63.8 |   89.0 |   85.3 \n",
      "   cgibbs_adapt |  108.1 |   91.5 |  107.2 |  214.3 |  272.0 \n",
      "Set 4           |        |        |        |        |        \n",
      "          exact |   11.6 |   17.0 |   40.1 |  232.2 | 1132.1 \n",
      "      mn_approx |   42.6 |   41.6 |   47.7 |   55.4 |   64.9 \n",
      "   cgibbs_adapt |   24.1 |   30.0 |   36.7 |   54.9 |   78.8 \n",
      "Set 5           |        |        |        |        |        \n",
      "          exact |   12.0 |   26.9 |   46.1 |   85.7 |  283.2 \n",
      "      mn_approx |   39.5 |   67.9 |   70.9 |   95.0 |  115.2 \n",
      "   cgibbs_adapt |   27.9 |   69.1 |   74.2 |  115.0 |  162.4 \n"
     ]
    }
   ],
   "source": [
    "print('Estimated total runtime for ESS of 1000\\n')\n",
    "print(f'Pool size{\" \"*7}', end='')\n",
    "for psize in pool_sizes:\n",
    "    print(f'|{psize:^8}', end='')\n",
    "print()\n",
    "\n",
    "print('|'.join(['-'*rep for rep in [16]+[8]*len(pool_sizes)]))\n",
    "for ds_idx in range(5):\n",
    "    print(f'Set {ds_idx+1:<12}|', end='')\n",
    "    print('|'.join([' '*8]*len(pool_sizes)))\n",
    "    for method in methods:\n",
    "        print(f'{method:>15} ', end='')\n",
    "        for psize in pool_sizes:\n",
    "            tot_time = est_time(stats_by_psize[psize][ds_idx][method]['sample_stats'],\n",
    "                                stats_by_psize[psize][ds_idx][method]['pess'].min(),\n",
    "                                1000)\n",
    "            print(f'| {tot_time:6.1f} ', end='')\n",
    "        print()"
   ]
  },
  {
   "cell_type": "code",
   "execution_count": null,
   "id": "966b2c78-18c9-4b29-b9fd-cc828a93393d",
   "metadata": {},
   "outputs": [],
   "source": []
  },
  {
   "cell_type": "code",
   "execution_count": null,
   "id": "0c88ea70-dc82-48e5-9ed4-620e7aeac078",
   "metadata": {},
   "outputs": [],
   "source": []
  },
  {
   "cell_type": "code",
   "execution_count": null,
   "id": "cde5fd24-efe5-4a78-a9fb-884a1f6295c4",
   "metadata": {},
   "outputs": [],
   "source": []
  }
 ],
 "metadata": {
  "kernelspec": {
   "display_name": "Python 3 (ipykernel)",
   "language": "python",
   "name": "python3"
  },
  "language_info": {
   "codemirror_mode": {
    "name": "ipython",
    "version": 3
   },
   "file_extension": ".py",
   "mimetype": "text/x-python",
   "name": "python",
   "nbconvert_exporter": "python",
   "pygments_lexer": "ipython3",
   "version": "3.8.12"
  }
 },
 "nbformat": 4,
 "nbformat_minor": 5
}
